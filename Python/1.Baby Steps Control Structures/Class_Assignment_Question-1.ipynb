{
 "cells": [
  {
   "cell_type": "code",
   "execution_count": 24,
   "id": "7a85bd44-dc3f-4122-9116-d6542870e5c7",
   "metadata": {},
   "outputs": [],
   "source": [
    "class MainFunction:\n",
    "    def table( x):\n",
    "        y = 11\n",
    "        print(f\"The {x} table:\")\n",
    "        print(\"----------\")\n",
    "        for i in range(1, y):\n",
    "            print(f\"{x} X {i} = {i * x}\")\n",
    "\n",
    "    def positive_or_negative( number):\n",
    "        if number > 0:\n",
    "            print(\"The number is positive.\")\n",
    "        elif number < 0:\n",
    "            print(\"The number is negative.\")\n",
    "        else:\n",
    "            print(\"The number is zero.\")\n",
    "\n",
    "    def subfields():\n",
    "        print(\"Sub-fields in AI are:\")\n",
    "        print(\"Machine Learning\")\n",
    "        print(\"Neural Networks\")\n",
    "        print(\"Vision\")\n",
    "        print(\"Robotics\")\n",
    "        print(\"Speech Processing\")\n",
    "        print(\"Natural Language Processing\")\n",
    "\n",
    "    def odd_even( x):\n",
    "        if x % 2 == 0:\n",
    "            print(f\"The number {x} is Even.\")\n",
    "        else:\n",
    "            print(f\"The number {x} is Odd.\")\n",
    "\n",
    "    def flames():\n",
    "        name1 = input(\"Enter the first name: \").strip().lower()\n",
    "        name2 = input(\"Enter the second name: \").strip().lower()\n",
    "        n1 = name1\n",
    "        n2 = name2\n",
    "\n",
    "        # Remove common characters from both names\n",
    "        for char in name1:\n",
    "            if char in name2:\n",
    "                name1 = name1.replace(char, '', 1)\n",
    "                name2 = name2.replace(char, '', 1)\n",
    "\n",
    "        print(name1)\n",
    "        print(name2)\n",
    "\n",
    "        # Count the remaining characters\n",
    "        count = len(name1) + len(name2)\n",
    "\n",
    "        # Define flames result categories\n",
    "        categories = ['Friends', 'Lovers', 'Affectionate', 'Marriage', 'Enemies', 'Siblings']\n",
    "\n",
    "        # Finding the result based on count\n",
    "        while len(categories) > 1:\n",
    "            index = (count % len(categories) - 1)\n",
    "            if index >= 0:\n",
    "                right = categories[index + 1:]\n",
    "                left = categories[:index]\n",
    "                categories = right + left\n",
    "            else:\n",
    "                categories = categories[:len(categories) - 1]\n",
    "\n",
    "        # Output the relationship category\n",
    "        print(\"Relationship between\", n1.capitalize(), \"and\", n2.capitalize(), \"is:\", categories[0])\n",
    "\n",
    "    def percentage():\n",
    "        S1 = input(\"Enter the mark for Subject 1: \")\n",
    "        S2 = input(\"Enter the mark for Subject 2: \")\n",
    "        S3 = input(\"Enter the mark for Subject 3: \")\n",
    "        S4 = input(\"Enter the mark for Subject 4: \")\n",
    "        S5 = input(\"Enter the mark for Subject 5: \")\n",
    "        Total = int(S1) + int(S2) + int(S3) + int(S4) + int(S5)\n",
    "        Percentage = (Total / 500) * 100\n",
    "        print(\"Total:\", Total)\n",
    "        print(\"Percentage:\", Percentage)\n",
    "\n",
    "    def triangle():\n",
    "        H1 = input(\"Enter the Height: \")\n",
    "        B1 = input(\"Enter the Breadth: \")\n",
    "        AofT = (int(H1) * int(B1)) / 2\n",
    "        print(\"Area of Triangle:\", AofT)\n",
    "\n"
   ]
  },
  {
   "cell_type": "code",
   "execution_count": 17,
   "id": "a1c611e9-3c7f-4bf8-817f-9719a9279e53",
   "metadata": {},
   "outputs": [
    {
     "name": "stdout",
     "output_type": "stream",
     "text": [
      "The 45 table:\n",
      "----------\n",
      "45 X 1 = 45\n",
      "45 X 2 = 90\n",
      "45 X 3 = 135\n",
      "45 X 4 = 180\n",
      "45 X 5 = 225\n",
      "45 X 6 = 270\n",
      "45 X 7 = 315\n",
      "45 X 8 = 360\n",
      "45 X 9 = 405\n",
      "45 X 10 = 450\n"
     ]
    }
   ],
   "source": [
    "MainFunction.table(45)"
   ]
  },
  {
   "cell_type": "code",
   "execution_count": 21,
   "id": "e4038e7d-c2d8-414a-b9f3-ee2ea1c98695",
   "metadata": {},
   "outputs": [
    {
     "name": "stdout",
     "output_type": "stream",
     "text": [
      "The number is zero.\n"
     ]
    }
   ],
   "source": [
    "MainFunction.positive_or_negative(0)"
   ]
  },
  {
   "cell_type": "code",
   "execution_count": 26,
   "id": "54e34206-1ffa-45bd-a895-2a369e4e7ded",
   "metadata": {},
   "outputs": [
    {
     "name": "stdout",
     "output_type": "stream",
     "text": [
      "The number 19 is Odd.\n"
     ]
    }
   ],
   "source": [
    "MainFunction.odd_even(19)"
   ]
  },
  {
   "cell_type": "code",
   "execution_count": 52,
   "id": "eb9395d7-76f5-42bb-b3a9-32be0eae87bf",
   "metadata": {},
   "outputs": [],
   "source": [
    "class Calculator:\n",
    "    @staticmethod\n",
    "    def calc(x, y, z):\n",
    "        if z == '+':\n",
    "            result = x + y\n",
    "        elif z == '-':\n",
    "            result = x - y\n",
    "        elif z == '*':\n",
    "            result = x * y\n",
    "        elif z == '/':\n",
    "            result = x / y\n",
    "        elif z == '%':\n",
    "            result = x % y\n",
    "        else:\n",
    "            raise ValueError(f\"Unsupported operation '{z}'. Supported operations are: +, -, *, /, %.\")\n",
    "\n",
    "        return result\n"
   ]
  },
  {
   "cell_type": "code",
   "execution_count": 56,
   "id": "762f206d-4468-4ee9-99e9-79ac7e19b30c",
   "metadata": {},
   "outputs": [
    {
     "data": {
      "text/plain": [
       "108"
      ]
     },
     "execution_count": 56,
     "metadata": {},
     "output_type": "execute_result"
    }
   ],
   "source": [
    "Calculator.calc(49,59,'+')"
   ]
  },
  {
   "cell_type": "code",
   "execution_count": 58,
   "id": "81b9e76e-011b-4a71-8079-e5f064274413",
   "metadata": {},
   "outputs": [
    {
     "data": {
      "text/plain": [
       "-10"
      ]
     },
     "execution_count": 58,
     "metadata": {},
     "output_type": "execute_result"
    }
   ],
   "source": [
    "Calculator.calc(49,59,'-')"
   ]
  },
  {
   "cell_type": "code",
   "execution_count": 60,
   "id": "143c206e-4bd9-40e1-9907-ada64497f5f1",
   "metadata": {},
   "outputs": [
    {
     "data": {
      "text/plain": [
       "2891"
      ]
     },
     "execution_count": 60,
     "metadata": {},
     "output_type": "execute_result"
    }
   ],
   "source": [
    "Calculator.calc(49,59,'*')"
   ]
  },
  {
   "cell_type": "code",
   "execution_count": 62,
   "id": "1a833f51-54ba-4bdf-868f-8827ea37f522",
   "metadata": {},
   "outputs": [
    {
     "data": {
      "text/plain": [
       "0.8305084745762712"
      ]
     },
     "execution_count": 62,
     "metadata": {},
     "output_type": "execute_result"
    }
   ],
   "source": [
    "Calculator.calc(49,59,'/')"
   ]
  },
  {
   "cell_type": "code",
   "execution_count": 64,
   "id": "76139065-3355-4d1e-89d3-e92a61098caa",
   "metadata": {},
   "outputs": [
    {
     "data": {
      "text/plain": [
       "49"
      ]
     },
     "execution_count": 64,
     "metadata": {},
     "output_type": "execute_result"
    }
   ],
   "source": [
    "Calculator.calc(49,59,'%')"
   ]
  },
  {
   "cell_type": "code",
   "execution_count": 66,
   "id": "845dd59c-5727-4f51-81c8-0125be0c24fe",
   "metadata": {},
   "outputs": [
    {
     "name": "stdin",
     "output_type": "stream",
     "text": [
      "Enter the mark for Subject 1:  93\n",
      "Enter the mark for Subject 2:  87\n",
      "Enter the mark for Subject 3:  100\n",
      "Enter the mark for Subject 4:  100\n",
      "Enter the mark for Subject 5:  98\n"
     ]
    },
    {
     "name": "stdout",
     "output_type": "stream",
     "text": [
      "Total: 478\n",
      "Percentage: 95.6\n"
     ]
    }
   ],
   "source": [
    "MainFunction.percentage()"
   ]
  },
  {
   "cell_type": "code",
   "execution_count": 70,
   "id": "9da05517-a4bd-4c94-b363-abda69e0d1c2",
   "metadata": {},
   "outputs": [
    {
     "name": "stdin",
     "output_type": "stream",
     "text": [
      "Enter the Height:  56\n",
      "Enter the Breadth:  67\n"
     ]
    },
    {
     "name": "stdout",
     "output_type": "stream",
     "text": [
      "Area of Triangle: 1876.0\n"
     ]
    }
   ],
   "source": [
    "MainFunction.triangle()"
   ]
  },
  {
   "cell_type": "code",
   "execution_count": 72,
   "id": "ffe2962c-747b-42a5-b351-388420b0d1cc",
   "metadata": {},
   "outputs": [
    {
     "name": "stdin",
     "output_type": "stream",
     "text": [
      "Enter the first name:  Saravanakumar\n",
      "Enter the second name:  Kanimoli\n"
     ]
    },
    {
     "name": "stdout",
     "output_type": "stream",
     "text": [
      "sravaauar\n",
      "ioli\n",
      "Relationship between Saravanakumar and Kanimoli is: Affectionate\n"
     ]
    }
   ],
   "source": [
    "MainFunction.flames()"
   ]
  },
  {
   "cell_type": "code",
   "execution_count": null,
   "id": "8ab62323-c811-4080-a722-1664762fe0e3",
   "metadata": {},
   "outputs": [],
   "source": []
  }
 ],
 "metadata": {
  "kernelspec": {
   "display_name": "anaconda-panel-2023.05-py310",
   "language": "python",
   "name": "conda-env-anaconda-panel-2023.05-py310-py"
  },
  "language_info": {
   "codemirror_mode": {
    "name": "ipython",
    "version": 3
   },
   "file_extension": ".py",
   "mimetype": "text/x-python",
   "name": "python",
   "nbconvert_exporter": "python",
   "pygments_lexer": "ipython3",
   "version": "3.11.5"
  }
 },
 "nbformat": 4,
 "nbformat_minor": 5
}
