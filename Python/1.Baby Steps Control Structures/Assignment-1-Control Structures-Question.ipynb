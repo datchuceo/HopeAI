{
 "cells": [
  {
   "cell_type": "code",
   "execution_count": 4,
   "id": "7a175d00-c16a-4d7e-aeab-5309b827433c",
   "metadata": {},
   "outputs": [
    {
     "name": "stdout",
     "output_type": "stream",
     "text": [
      "4\n"
     ]
    }
   ],
   "source": [
    "num1=1\n",
    "num2=3\n",
    "a=num1+num2\n",
    "print (a)"
   ]
  },
  {
   "cell_type": "code",
   "execution_count": 14,
   "id": "b3e50fd4-b4d7-4be1-be90-117f2ce32d2c",
   "metadata": {},
   "outputs": [
    {
     "name": "stdout",
     "output_type": "stream",
     "text": [
      "a\n",
      "b\n",
      "c\n",
      "d\n"
     ]
    }
   ],
   "source": [
    "ac=['a','b','c','d']\n",
    "for i in ac:\n",
    "    print (i)\n",
    "    "
   ]
  },
  {
   "cell_type": "code",
   "execution_count": 8,
   "id": "fba359cc-7ff7-4437-a49c-aa595d7a30e6",
   "metadata": {},
   "outputs": [
    {
     "name": "stdin",
     "output_type": "stream",
     "text": [
      "Enter the String kanimozhi\n"
     ]
    },
    {
     "name": "stdout",
     "output_type": "stream",
     "text": [
      "i\n",
      "h\n",
      "z\n",
      "o\n",
      "m\n",
      "i\n",
      "n\n",
      "a\n",
      "k\n"
     ]
    }
   ],
   "source": [
    "ac=input(\"Enter the String\")\n",
    "ca=ac[::-1]\n",
    "for i in ca:\n",
    "    print (i)\n",
    " "
   ]
  },
  {
   "cell_type": "code",
   "execution_count": 8,
   "id": "d02d8473-17dc-4920-a99e-30ac9386d7e7",
   "metadata": {},
   "outputs": [
    {
     "name": "stdout",
     "output_type": "stream",
     "text": [
      "aaa\n"
     ]
    }
   ],
   "source": [
    "print (\"aaa\")"
   ]
  },
  {
   "cell_type": "code",
   "execution_count": 10,
   "id": "ea19e4e8-a369-4621-b9d9-6fc6c263dfe5",
   "metadata": {},
   "outputs": [
    {
     "name": "stdout",
     "output_type": "stream",
     "text": [
      "1\n",
      "2\n",
      "3\n",
      "4\n",
      "5\n",
      "6\n",
      "7\n",
      "8\n",
      "9\n"
     ]
    }
   ],
   "source": [
    "for i in range (1,10):\n",
    "    print (i)"
   ]
  },
  {
   "cell_type": "code",
   "execution_count": 1,
   "id": "e4a0a46e-56c5-4662-bfb5-cde00f7fc238",
   "metadata": {},
   "outputs": [
    {
     "name": "stdout",
     "output_type": "stream",
     "text": [
      "Welcome to Assignment-1\n"
     ]
    }
   ],
   "source": [
    "print(\"Welcome to Assignment-1\")"
   ]
  },
  {
   "cell_type": "code",
   "execution_count": 11,
   "id": "3790e087-9f6a-4a3e-a418-0a7e7230c7d9",
   "metadata": {},
   "outputs": [
    {
     "name": "stdin",
     "output_type": "stream",
     "text": [
      "Enter num1 : 10\n",
      "Enter num2: 30\n"
     ]
    },
    {
     "name": "stdout",
     "output_type": "stream",
     "text": [
      "Num1 :  10\n",
      "Num2 :  30\n",
      "Add : 40\n"
     ]
    }
   ],
   "source": [
    "Num1=input(\"Enter num1 :\")\n",
    "Num2=input(\"Enter num2:\")\n",
    "print (\"Num1 : \", Num1)\n",
    "print (\"Num2 : \", Num2)\n",
    "Add= int(Num1) + int(Num2)\n",
    "print (\"Add :\", Add)"
   ]
  },
  {
   "cell_type": "code",
   "execution_count": 23,
   "id": "8f779d44-95ae-477b-a371-5c868d886d32",
   "metadata": {},
   "outputs": [
    {
     "name": "stdin",
     "output_type": "stream",
     "text": [
      "Enter the BMI Index:  34\n"
     ]
    },
    {
     "name": "stdout",
     "output_type": "stream",
     "text": [
      "Very Overweight\n"
     ]
    }
   ],
   "source": [
    "bmi = float(input(\"Enter the BMI Index: \"))\n",
    "if bmi < 18.5:\n",
    "    print(\"Underweight\")\n",
    "elif 18.5 <= bmi < 24.9:\n",
    "    print(\"Normal weight\")\n",
    "elif 25 <= bmi < 29.9:\n",
    "    print(\"Overweight\")\n",
    "elif 30 <= bmi < 34.9:\n",
    "    print(\"Very Overweight\")\n",
    "elif 35 <= bmi < 39.9:\n",
    "    print(\"Very Very Overweight\")\n",
    "else:\n",
    "    print(\"Obese\")\n"
   ]
  },
  {
   "cell_type": "code",
   "execution_count": null,
   "id": "4b3adfed-4328-47f8-8c31-979f82033d7c",
   "metadata": {},
   "outputs": [],
   "source": []
  }
 ],
 "metadata": {
  "kernelspec": {
   "display_name": "anaconda-2024.02-py310",
   "language": "python",
   "name": "conda-env-anaconda-2024.02-py310-py"
  },
  "language_info": {
   "codemirror_mode": {
    "name": "ipython",
    "version": 3
   },
   "file_extension": ".py",
   "mimetype": "text/x-python",
   "name": "python",
   "nbconvert_exporter": "python",
   "pygments_lexer": "ipython3",
   "version": "3.10.14"
  }
 },
 "nbformat": 4,
 "nbformat_minor": 5
}
