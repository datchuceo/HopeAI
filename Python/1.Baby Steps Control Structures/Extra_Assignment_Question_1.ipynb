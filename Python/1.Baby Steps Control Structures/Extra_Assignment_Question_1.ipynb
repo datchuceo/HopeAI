{
 "cells": [
  {
   "cell_type": "code",
   "execution_count": 1,
   "id": "af6e0933-9b1c-4b44-bb77-d9e1a98d5035",
   "metadata": {},
   "outputs": [
    {
     "name": "stdout",
     "output_type": "stream",
     "text": [
      "HOPE AI\n"
     ]
    }
   ],
   "source": [
    "print(\"HOPE AI\")"
   ]
  },
  {
   "cell_type": "code",
   "execution_count": 3,
   "id": "a272da94-75b4-4e5e-a50e-fa60d73603ac",
   "metadata": {},
   "outputs": [
    {
     "name": "stdin",
     "output_type": "stream",
     "text": [
      "Enter your institute name?   HOPE AI\n"
     ]
    },
    {
     "name": "stdout",
     "output_type": "stream",
     "text": [
      "Enter your institute name? :  HOPE AI\n"
     ]
    }
   ],
   "source": [
    "abc =input(\"Enter your institute name? \")\n",
    "print (f\"\"\"Enter your institute name? :\"\"\" ,abc )"
   ]
  },
  {
   "cell_type": "code",
   "execution_count": 7,
   "id": "f0afa8bd-518d-4bf6-92ef-689b88c9263a",
   "metadata": {},
   "outputs": [
    {
     "name": "stdin",
     "output_type": "stream",
     "text": [
      "Enter your name:   saravanakumar Ganesan\n",
      "Enter your age  39\n",
      "Enter your school name  Bishop\n",
      "Enter your degree  BE Computer\n"
     ]
    },
    {
     "name": "stdout",
     "output_type": "stream",
     "text": [
      "Enter your name:  saravanakumar Ganesan\n",
      "Enter your age: : 39\n",
      "Enter your School Name:  : Bishop\n",
      "Enter your Degree Name:  : BE Computer\n"
     ]
    }
   ],
   "source": [
    "name =input(\"Enter your name:  \")\n",
    "age =input(\"Enter your age \")\n",
    "school =input(\"Enter your school name \")\n",
    "degree =input(\"Enter your degree \")\n",
    "\n",
    "print (f\"\"\"Enter your name: \"\"\" ,name )\n",
    "print (f\"\"\"Enter your age: :\"\"\" ,age )\n",
    "print (f\"\"\"Enter your School Name:  :\"\"\" ,school )\n",
    "print (f\"\"\"Enter your Degree Name:  :\"\"\" ,degree )"
   ]
  },
  {
   "cell_type": "code",
   "execution_count": 9,
   "id": "f1b88217-a4e6-43e9-83c3-07c3351ad922",
   "metadata": {},
   "outputs": [
    {
     "name": "stdout",
     "output_type": "stream",
     "text": [
      "119\n"
     ]
    }
   ],
   "source": [
    "a=43\n",
    "b=76\n",
    "add  = a+b\n",
    "print (add)"
   ]
  },
  {
   "cell_type": "code",
   "execution_count": 11,
   "id": "1fb79272-790b-42d4-81d4-e5c5016ac0a6",
   "metadata": {},
   "outputs": [
    {
     "name": "stdout",
     "output_type": "stream",
     "text": [
      "-33\n"
     ]
    }
   ],
   "source": [
    "a=43\n",
    "b=76\n",
    "sub  = a-b\n",
    "print (sub)"
   ]
  },
  {
   "cell_type": "code",
   "execution_count": 13,
   "id": "a2c2363e-2412-492a-b17e-39b53a0b48a5",
   "metadata": {},
   "outputs": [
    {
     "name": "stdout",
     "output_type": "stream",
     "text": [
      "3268\n"
     ]
    }
   ],
   "source": [
    "a=43\n",
    "b=76\n",
    "mul  =  a * b\n",
    "print (mul)"
   ]
  },
  {
   "cell_type": "code",
   "execution_count": 21,
   "id": "ae0aaf5c-91a6-4f6b-90b1-9af9854aad28",
   "metadata": {},
   "outputs": [
    {
     "name": "stdout",
     "output_type": "stream",
     "text": [
      "12\n"
     ]
    }
   ],
   "source": [
    "# Floor Div\n",
    "a=23\n",
    "b=2\n",
    "div  =  round(a / b)\n",
    "print (div)"
   ]
  },
  {
   "cell_type": "code",
   "execution_count": 17,
   "id": "46c74688-7ba3-4681-a1eb-968c9bf133eb",
   "metadata": {},
   "outputs": [
    {
     "name": "stdout",
     "output_type": "stream",
     "text": [
      "2.230769230769231\n"
     ]
    }
   ],
   "source": [
    "#float Div\n",
    "a=29\n",
    "b=13\n",
    "div = a/b\n",
    "print (div)"
   ]
  },
  {
   "cell_type": "code",
   "execution_count": 33,
   "id": "c78aad6d-5679-4568-97d3-7a9faef2f879",
   "metadata": {},
   "outputs": [
    {
     "name": "stdout",
     "output_type": "stream",
     "text": [
      "32\n"
     ]
    }
   ],
   "source": [
    "a=5\n",
    "#power\n",
    "power = 2**a\n",
    "print (power)"
   ]
  },
  {
   "cell_type": "code",
   "execution_count": null,
   "id": "130d9df4-b736-4bd8-a779-e0a0086e8e50",
   "metadata": {},
   "outputs": [],
   "source": []
  }
 ],
 "metadata": {
  "kernelspec": {
   "display_name": "anaconda-panel-2023.05-py310",
   "language": "python",
   "name": "conda-env-anaconda-panel-2023.05-py310-py"
  },
  "language_info": {
   "codemirror_mode": {
    "name": "ipython",
    "version": 3
   },
   "file_extension": ".py",
   "mimetype": "text/x-python",
   "name": "python",
   "nbconvert_exporter": "python",
   "pygments_lexer": "ipython3",
   "version": "3.11.5"
  }
 },
 "nbformat": 4,
 "nbformat_minor": 5
}
