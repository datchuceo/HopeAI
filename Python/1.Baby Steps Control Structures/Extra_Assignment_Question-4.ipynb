{
 "cells": [
  {
   "cell_type": "code",
   "execution_count": 15,
   "id": "e6e43d97-fdaa-41ef-bc60-8e42cf5b4f29",
   "metadata": {},
   "outputs": [
    {
     "name": "stdout",
     "output_type": "stream",
     "text": [
      "The 4 tables\n",
      "----------\n",
      "1 X 1 = 4\n",
      "1 X 2 = 8\n",
      "1 X 3 = 12\n",
      "1 X 4 = 16\n",
      "1 X 5 = 20\n",
      "1 X 6 = 24\n",
      "1 X 7 = 28\n",
      "1 X 8 = 32\n",
      "1 X 9 = 36\n",
      "1 X 10 = 40\n"
     ]
    }
   ],
   "source": [
    "def table(x):\n",
    "    y = 11\n",
    "    print(f\"The {x} tables\")\n",
    "    print(\"----------\")\n",
    "    for i in range(1, y):     \n",
    "       print(f\"1 X {i} = {i * x}\")\n",
    "\n",
    "# Example usage:\n",
    "table(4)\n"
   ]
  },
  {
   "cell_type": "code",
   "execution_count": 28,
   "id": "8dc1451d-84f8-4269-b77b-c0f51794bb92",
   "metadata": {},
   "outputs": [],
   "source": [
    "def PositiveOrNagetive(number):\n",
    "    # Input from the user\n",
    "    #number = float(input(\"Enter a number: \"))\n",
    "    # Check if the number is positive, negative, or zero\n",
    "    if number > 0:\n",
    "        print(\"The number is positive.\")\n",
    "    elif number < 0:\n",
    "        print(\"The number is negative.\")\n",
    "    else:\n",
    "        print(\"The number is zero.\")\n"
   ]
  },
  {
   "cell_type": "code",
   "execution_count": 32,
   "id": "08b7bc5a-c3fb-42c7-a516-d541e1d90577",
   "metadata": {},
   "outputs": [
    {
     "name": "stdout",
     "output_type": "stream",
     "text": [
      "The number is negative.\n"
     ]
    }
   ],
   "source": [
    "PositiveOrNagetive(-23)"
   ]
  },
  {
   "cell_type": "code",
   "execution_count": 34,
   "id": "b7efc702-3802-4729-9756-045e750db65a",
   "metadata": {},
   "outputs": [],
   "source": [
    "def Subfields():\n",
    "    print(\"Sub-fields in AI are:\")\n",
    "    print(\"Machine Learning\")\n",
    "    print(\"Neural Networks\")\n",
    "    print(\"Vision\")\n",
    "    print(\"Robotics\")\n",
    "    print(\"Speech Processing\")\n",
    "    print(\"Natural Language Processing\")\n"
   ]
  },
  {
   "cell_type": "code",
   "execution_count": 36,
   "id": "5a25eddf-7bc4-40cd-9503-91e1e0ff5171",
   "metadata": {},
   "outputs": [
    {
     "name": "stdout",
     "output_type": "stream",
     "text": [
      "Sub-fields in AI are:\n",
      "Machine Learning\n",
      "Neural Networks\n",
      "Vision\n",
      "Robotics\n",
      "Speech Processing\n",
      "Natural Language Processing\n"
     ]
    }
   ],
   "source": [
    "Subfields()"
   ]
  },
  {
   "cell_type": "code",
   "execution_count": 39,
   "id": "34f5bd46-05c8-4664-b248-9642806e5c9f",
   "metadata": {},
   "outputs": [],
   "source": [
    "def OddEven(x):\n",
    "    if  x%2 == 0 :\n",
    "        print (f\"\"\" The {x} is Even Nnumber \"\"\")\n",
    "    else:\n",
    "        print (f\"\"\" The {x} is Odd Number \"\"\")"
   ]
  },
  {
   "cell_type": "code",
   "execution_count": 43,
   "id": "9653112c-994f-48bd-8f10-8b98a509a863",
   "metadata": {},
   "outputs": [
    {
     "name": "stdout",
     "output_type": "stream",
     "text": [
      " The 32 is Even Nnumber \n"
     ]
    }
   ],
   "source": [
    "OddEven(32)"
   ]
  },
  {
   "cell_type": "code",
   "execution_count": 53,
   "id": "41982d5d-acaa-4b67-bc8f-430c4f1877cc",
   "metadata": {},
   "outputs": [],
   "source": [
    "def Elegible():\n",
    "    Sex =input(\"Enter the Gender\")\n",
    "    Age =int(input(\"Enter the  age\"))\n",
    "    if  Age >= 24:\n",
    "        print (\"You Are Eligible to marriage\")"
   ]
  },
  {
   "cell_type": "code",
   "execution_count": 55,
   "id": "3e9104fe-5880-4a67-8b13-f40e39f82364",
   "metadata": {},
   "outputs": [
    {
     "name": "stdin",
     "output_type": "stream",
     "text": [
      "Enter the Gender Male\n",
      "Enter the  age 25\n"
     ]
    },
    {
     "name": "stdout",
     "output_type": "stream",
     "text": [
      "You Are Eligible to marriage\n"
     ]
    }
   ],
   "source": [
    "Elegible()"
   ]
  },
  {
   "cell_type": "code",
   "execution_count": 65,
   "id": "389f517b-f447-477f-8339-9201dba2f719",
   "metadata": {},
   "outputs": [
    {
     "name": "stdin",
     "output_type": "stream",
     "text": [
      "Enter the first name:  ganesan\n",
      "Enter the second name:  logambal\n"
     ]
    },
    {
     "name": "stdout",
     "output_type": "stream",
     "text": [
      "nesn\n",
      "lombl\n",
      "Relationship between Ganesan and Logambal is: Enemies\n"
     ]
    }
   ],
   "source": [
    "def flames():\n",
    "    name1 = input(\"Enter the first name: \").strip().lower()\n",
    "    name2 = input(\"Enter the second name: \").strip().lower()\n",
    "    n1=name1\n",
    "    n2=name2\n",
    "    # Remove common characters from both names\n",
    "    for char in name1:\n",
    "        if char in name2:\n",
    "            name1 = name1.replace(char, '', 1)\n",
    "            name2 = name2.replace(char, '', 1)\n",
    "            \n",
    "    print (name1)\n",
    "    print(name2)\n",
    "    # Count the remaining characters\n",
    "    count = len(name1) + len(name2)\n",
    "    \n",
    "    # Define flames result categories\n",
    "    categories = ['Friends', 'Lovers', 'Affectionate', 'Marriage', 'Enemies', 'Siblings']\n",
    "    \n",
    "    # Finding the result based on count\n",
    "    while len(categories) > 1:\n",
    "        index = (count % len(categories) - 1)\n",
    "        if index >= 0:\n",
    "            right = categories[index + 1 :]\n",
    "            left = categories[: index]\n",
    "            categories = right + left\n",
    "        else:\n",
    "            categories = categories[: len(categories) - 1]\n",
    "    \n",
    "    # Output the relationship category\n",
    "    print(\"Relationship between\", n1.capitalize(), \"and\", n2.capitalize(), \"is:\", categories[0])\n",
    "\n",
    "# Example usage:\n",
    "flames()\n"
   ]
  },
  {
   "cell_type": "code",
   "execution_count": 67,
   "id": "0f4ad1cd-9a74-496b-b406-eb2e01216e78",
   "metadata": {},
   "outputs": [],
   "source": [
    "def percentage():\n",
    "    S1=input(\"Enter the mark for  Subject 1\")\n",
    "    S2=input(\"Enter the mark for  Subject 2\")\n",
    "    S3=input(\"Enter the mark for  Subject 3\")\n",
    "    S4=input(\"Enter the mark for  Subject 4\")\n",
    "    S5=input(\"Enter the mark for  Subject 5\")\n",
    "    Total = int(S1) + int(S2)+int(S3)+int(S4)+int(S5)\n",
    "    Percentage = ((Total/500) * 100)\n",
    "    print(\"Total :\" ,Total)\n",
    "    print(\"Percentage :\" ,Percentage)\n",
    "   "
   ]
  },
  {
   "cell_type": "code",
   "execution_count": 69,
   "id": "cf2c5c0f-7722-46cb-a771-a5610a2c9a15",
   "metadata": {},
   "outputs": [
    {
     "name": "stdin",
     "output_type": "stream",
     "text": [
      "Enter the mark for  Subject 1 81\n",
      "Enter the mark for  Subject 2 76\n",
      "Enter the mark for  Subject 3 98\n",
      "Enter the mark for  Subject 4 97\n",
      "Enter the mark for  Subject 5 84\n"
     ]
    },
    {
     "name": "stdout",
     "output_type": "stream",
     "text": [
      "Total : 436\n",
      "Percentage : 87.2\n"
     ]
    }
   ],
   "source": [
    "percentage()"
   ]
  },
  {
   "cell_type": "code",
   "execution_count": 75,
   "id": "a3d2dd5b-f0b4-40cb-8496-037513a2932b",
   "metadata": {},
   "outputs": [],
   "source": [
    "def triangle():\n",
    "    H1=input(\"Enter the Height\")\n",
    "    B1=input(\"Enter the Breadth\")\n",
    "    AofT= (int(H1) * int(B1) ) / 2\n",
    "    print (\"Area of Triangle: \", AofT)\n"
   ]
  },
  {
   "cell_type": "code",
   "execution_count": null,
   "id": "48a7a7a4-f454-4934-87bf-fdf7b2ac989a",
   "metadata": {},
   "outputs": [
    {
     "name": "stdin",
     "output_type": "stream",
     "text": [
      "Enter the Height 34\n"
     ]
    }
   ],
   "source": [
    "triangle()"
   ]
  },
  {
   "cell_type": "code",
   "execution_count": null,
   "id": "2ddbf40d-4ab1-4f0a-9d14-7e68e11e6b61",
   "metadata": {},
   "outputs": [],
   "source": []
  }
 ],
 "metadata": {
  "kernelspec": {
   "display_name": "anaconda-panel-2023.05-py310",
   "language": "python",
   "name": "conda-env-anaconda-panel-2023.05-py310-py"
  },
  "language_info": {
   "codemirror_mode": {
    "name": "ipython",
    "version": 3
   },
   "file_extension": ".py",
   "mimetype": "text/x-python",
   "name": "python",
   "nbconvert_exporter": "python",
   "pygments_lexer": "ipython3",
   "version": "3.11.5"
  }
 },
 "nbformat": 4,
 "nbformat_minor": 5
}
