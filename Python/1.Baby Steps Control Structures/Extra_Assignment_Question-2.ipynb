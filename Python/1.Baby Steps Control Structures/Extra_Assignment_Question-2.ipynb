{
 "cells": [
  {
   "cell_type": "code",
   "execution_count": 3,
   "id": "0cef9642-d782-4d3d-ae71-1c4ce11e0a80",
   "metadata": {},
   "outputs": [
    {
     "name": "stdout",
     "output_type": "stream",
     "text": [
      "0\n",
      "1\n",
      "2\n",
      "3\n",
      "4\n",
      "5\n",
      "6\n",
      "7\n",
      "8\n",
      "9\n",
      "10\n",
      "11\n",
      "12\n",
      "13\n",
      "14\n",
      "15\n",
      "16\n",
      "17\n",
      "18\n",
      "19\n"
     ]
    }
   ],
   "source": [
    "for i in range(0,20):\n",
    "    print (i)"
   ]
  },
  {
   "cell_type": "code",
   "execution_count": 5,
   "id": "3623b077-a077-446c-9cf5-b06053902875",
   "metadata": {},
   "outputs": [
    {
     "name": "stdout",
     "output_type": "stream",
     "text": [
      "10\n",
      "11\n",
      "12\n",
      "13\n",
      "14\n",
      "15\n",
      "16\n",
      "17\n",
      "18\n",
      "19\n"
     ]
    }
   ],
   "source": [
    "for i in range(10,20):\n",
    "    print (i)"
   ]
  },
  {
   "cell_type": "code",
   "execution_count": 9,
   "id": "1f718fec-c933-4bed-a4c8-d6865d59598d",
   "metadata": {},
   "outputs": [
    {
     "name": "stdout",
     "output_type": "stream",
     "text": [
      "0\n",
      "4\n",
      "8\n",
      "12\n",
      "16\n",
      "20\n"
     ]
    }
   ],
   "source": [
    "for i in range(0,21, 4):\n",
    "    print (i)"
   ]
  },
  {
   "cell_type": "code",
   "execution_count": 11,
   "id": "8875874f-70be-4255-b9af-4618fd2c15dc",
   "metadata": {},
   "outputs": [],
   "source": [
    "a=[10, 20, 14, 55, 43, 87, 76]\n"
   ]
  },
  {
   "cell_type": "code",
   "execution_count": 13,
   "id": "a21791f0-29d1-496a-9771-bbf0cbe1629e",
   "metadata": {},
   "outputs": [
    {
     "name": "stdout",
     "output_type": "stream",
     "text": [
      "[10, 20, 14, 55, 43, 87, 76]\n"
     ]
    }
   ],
   "source": [
    "print (a)"
   ]
  },
  {
   "cell_type": "code",
   "execution_count": 15,
   "id": "9cbec2f6-ffcd-4cf7-a4e8-de9eab6b8849",
   "metadata": {},
   "outputs": [
    {
     "data": {
      "text/plain": [
       "list"
      ]
     },
     "execution_count": 15,
     "metadata": {},
     "output_type": "execute_result"
    }
   ],
   "source": [
    "type (a)"
   ]
  },
  {
   "cell_type": "code",
   "execution_count": 17,
   "id": "ca2c9400-a9a0-46c8-a907-48f33be3af57",
   "metadata": {},
   "outputs": [],
   "source": [
    "b =a"
   ]
  },
  {
   "cell_type": "code",
   "execution_count": 19,
   "id": "aa189532-1f10-4792-a52f-8cf666244551",
   "metadata": {},
   "outputs": [
    {
     "name": "stdout",
     "output_type": "stream",
     "text": [
      "[10, 20, 14, 55, 43, 87, 76]\n"
     ]
    }
   ],
   "source": [
    "print (b)"
   ]
  },
  {
   "cell_type": "code",
   "execution_count": 21,
   "id": "4da42469-e326-4e81-bc51-72d3fa2c094f",
   "metadata": {},
   "outputs": [
    {
     "data": {
      "text/plain": [
       "7"
      ]
     },
     "execution_count": 21,
     "metadata": {},
     "output_type": "execute_result"
    }
   ],
   "source": [
    "len(b)"
   ]
  },
  {
   "cell_type": "code",
   "execution_count": 23,
   "id": "561b96b4-e59d-4c0c-9c50-8b9d4026b6b1",
   "metadata": {},
   "outputs": [
    {
     "name": "stdout",
     "output_type": "stream",
     "text": [
      "[10, 20, 14, 55, 43, 87, 76, 22]\n"
     ]
    }
   ],
   "source": [
    "b.append(22)\n",
    "print (b)"
   ]
  },
  {
   "cell_type": "code",
   "execution_count": 25,
   "id": "7a63e7d9-b02b-46cd-a47f-853307e395ee",
   "metadata": {},
   "outputs": [
    {
     "name": "stdout",
     "output_type": "stream",
     "text": [
      "A\n",
      "r\n",
      "t\n",
      "i\n",
      "f\n",
      "i\n",
      "c\n",
      "i\n",
      "a\n",
      "l\n",
      " \n",
      "I\n",
      "n\n",
      "t\n",
      "e\n",
      "l\n",
      "l\n",
      "i\n",
      "g\n",
      "e\n",
      "n\n",
      "c\n",
      "e\n"
     ]
    }
   ],
   "source": [
    "for i in \"Artificial Intelligence\" :\n",
    "    print (i)"
   ]
  },
  {
   "cell_type": "code",
   "execution_count": 27,
   "id": "d03d4687-e5b2-450d-bbd9-8825a2d13678",
   "metadata": {},
   "outputs": [
    {
     "name": "stdout",
     "output_type": "stream",
     "text": [
      "(1, 'Welcome', 2, 'Hope')\n"
     ]
    }
   ],
   "source": [
    "abc =(1, 'Welcome', 2, 'Hope')\n",
    "print (abc)\n"
   ]
  },
  {
   "cell_type": "code",
   "execution_count": 37,
   "id": "ea313601-f443-40e7-b5b4-60ab8064a751",
   "metadata": {},
   "outputs": [
    {
     "name": "stdout",
     "output_type": "stream",
     "text": [
      "('A', 'r', 't', 'i', 'f', 'i', 'c', 'i', 'a', 'l', ' ', 'I', 'n', 't', 'e', 'l', 'l', 'i', 'g', 'e', 'n', 'c', 'e')\n"
     ]
    }
   ],
   "source": [
    "string = \"Artificial Intelligence\"\n",
    "\n",
    "# Create a tuple from the characters of the string\n",
    "result = tuple(string)\n",
    "\n",
    "# Print the resulting tuple\n",
    "#print(result)\n",
    "\n",
    "print (my_tuples)"
   ]
  },
  {
   "cell_type": "code",
   "execution_count": 39,
   "id": "7d84366e-1889-41f4-a355-a82437c48119",
   "metadata": {},
   "outputs": [
    {
     "name": "stdout",
     "output_type": "stream",
     "text": [
      "(A, r, t, i, f, i, c, i, a, l,  , I, n, t, e, l, l, i, g, e, n, c, e)\n"
     ]
    }
   ],
   "source": [
    "string = \"Artificial Intelligence\"\n",
    "\n",
    "# Convert the string to a tuple\n",
    "result = tuple(string)\n",
    "\n",
    "# Print the tuple without single quotes\n",
    "print(f\"({', '.join(result)})\")\n"
   ]
  },
  {
   "cell_type": "code",
   "execution_count": 41,
   "id": "06c7dd6c-81ee-4916-a605-46fa46ba1410",
   "metadata": {},
   "outputs": [
    {
     "name": "stdout",
     "output_type": "stream",
     "text": [
      "()\n",
      "('Geeks', 'For')\n",
      "(1, 2, 4, 5, 6)\n",
      "('G', 'e', 'e', 'k', 's')\n"
     ]
    }
   ],
   "source": [
    "# Creating an empty Tuple\n",
    "tup = ()\n",
    "print(tup)\n",
    "\n",
    "# Using String\n",
    "tup = ('Geeks', 'For')\n",
    "print(tup)\n",
    "\n",
    "# Using List\n",
    "li = [1, 2, 4, 5, 6]\n",
    "print(tuple(li))\n",
    "\n",
    "# Using Built-in Function\n",
    "tup = tuple('Geeks')\n",
    "print(tup)"
   ]
  },
  {
   "cell_type": "code",
   "execution_count": 49,
   "id": "d3b29911-6196-4d88-bab1-edab9b933c81",
   "metadata": {},
   "outputs": [
    {
     "name": "stdout",
     "output_type": "stream",
     "text": [
      "('G', 'e', 'e', 'k', 's')\n",
      "['G', 'e', 'e', 'k', 's']\n"
     ]
    }
   ],
   "source": [
    "t=('G', 'e', 'e', 'k', 's')\n",
    "print (t)\n",
    "l= list(t)\n",
    "print (l)\n"
   ]
  },
  {
   "cell_type": "code",
   "execution_count": 53,
   "id": "9c950709-af2a-4eac-9bba-8fac55d5c75c",
   "metadata": {},
   "outputs": [
    {
     "name": "stdout",
     "output_type": "stream",
     "text": [
      "20  is Even Number \n",
      "10  is Even Number \n",
      "16  is Even Number \n",
      "276  is Even Number \n",
      "188  is Even Number \n"
     ]
    }
   ],
   "source": [
    "num =(20,10,16,19,25,1,276,188)\n",
    "for i in num:\n",
    "    if  i%2== 0 :\n",
    "        print ( i, \" is Even Number \")\n",
    "    "
   ]
  },
  {
   "cell_type": "code",
   "execution_count": null,
   "id": "323c9ce9-2b65-4df6-9711-c31f53024a4b",
   "metadata": {},
   "outputs": [],
   "source": [
    "num =(20,10,16,19,25,1,276,188)\n",
    "for i in num:\n",
    "    if  i%2== 0 :\n",
    "        print ( i, \" is Even Number \")"
   ]
  }
 ],
 "metadata": {
  "kernelspec": {
   "display_name": "anaconda-panel-2023.05-py310",
   "language": "python",
   "name": "conda-env-anaconda-panel-2023.05-py310-py"
  },
  "language_info": {
   "codemirror_mode": {
    "name": "ipython",
    "version": 3
   },
   "file_extension": ".py",
   "mimetype": "text/x-python",
   "name": "python",
   "nbconvert_exporter": "python",
   "pygments_lexer": "ipython3",
   "version": "3.11.5"
  }
 },
 "nbformat": 4,
 "nbformat_minor": 5
}
