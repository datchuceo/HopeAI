{
 "cells": [
  {
   "cell_type": "code",
   "execution_count": 9,
   "id": "1b9b2d29-8693-404d-aef0-75646c2c3cef",
   "metadata": {},
   "outputs": [
    {
     "name": "stdin",
     "output_type": "stream",
     "text": [
      "enter number  10\n"
     ]
    },
    {
     "name": "stdout",
     "output_type": "stream",
     "text": [
      "CORRECT\n"
     ]
    }
   ],
   "source": [
    " i =int(input(\"enter number \"))\n",
    " if i == 10 :\n",
    "     print ('CORRECT' )"
   ]
  },
  {
   "cell_type": "code",
   "execution_count": 11,
   "id": "0007b1f8-9d20-491f-b78c-0a348c0f1be3",
   "metadata": {},
   "outputs": [
    {
     "name": "stdin",
     "output_type": "stream",
     "text": [
      "enter your password   adfaf\n"
     ]
    },
    {
     "name": "stdout",
     "output_type": "stream",
     "text": [
      "Password entered is incorrect ! Try Agaian\n"
     ]
    }
   ],
   "source": [
    " pwd =input(\"enter your password  \")\n",
    " if pwd==\"HOPE@123\" :\n",
    "     print (\"Password entered is corret ! \")\n",
    " else:\n",
    "     print (\"Password entered is incorrect ! Try Agaian\")\n",
    " "
   ]
  },
  {
   "cell_type": "code",
   "execution_count": 13,
   "id": "5a1d02ca-5fd3-4cb8-bb5f-b6758b69beba",
   "metadata": {},
   "outputs": [
    {
     "name": "stdin",
     "output_type": "stream",
     "text": [
      "enter your password   HOPE@123\n"
     ]
    },
    {
     "name": "stdout",
     "output_type": "stream",
     "text": [
      "Password entered is corret ! \n"
     ]
    }
   ],
   "source": [
    " pwd =input(\"enter your password  \")\n",
    " if pwd==\"HOPE@123\" :\n",
    "     print (\"Password entered is corret ! \")\n",
    " else:\n",
    "     print (\"Password entered is incorrect ! Try Agaian\")"
   ]
  },
  {
   "cell_type": "code",
   "execution_count": 19,
   "id": "4ff82d0d-d55b-4c21-a4f0-17774d9b27a3",
   "metadata": {},
   "outputs": [
    {
     "name": "stdin",
     "output_type": "stream",
     "text": [
      "Enter your age:  3\n"
     ]
    },
    {
     "name": "stdout",
     "output_type": "stream",
     "text": [
      "You are a small kid.\n"
     ]
    }
   ],
   "source": [
    "     \n",
    "# Input age and convert it to an integer\n",
    "Age = int(input(\"Enter your age: \"))\n",
    "\n",
    "# Check the age range and print the corresponding message\n",
    "if Age < 5:\n",
    "    print(\"You are a small kid.\")\n",
    "elif Age >= 5 and Age < 12:\n",
    "    print(\"You are a small kid.\")\n",
    "elif Age >= 12 and Age < 21:\n",
    "    print(\"You are a young adult.\")\n",
    "elif Age >= 21 and Age < 40:\n",
    "    print(\"You are a man.\")\n",
    "elif Age >= 40 and Age < 60:\n",
    "    print(\"You are a citizen.\")\n",
    "else:\n",
    "    print(\"You are a senior citizen.\")\n"
   ]
  },
  {
   "cell_type": "code",
   "execution_count": 23,
   "id": "e5424560-62d5-4d89-a508-83dbffb89e8f",
   "metadata": {},
   "outputs": [
    {
     "name": "stdin",
     "output_type": "stream",
     "text": [
      "Enter a number:  -21\n"
     ]
    },
    {
     "name": "stdout",
     "output_type": "stream",
     "text": [
      "The number is negative.\n"
     ]
    }
   ],
   "source": [
    "# Input from the user\n",
    "number = float(input(\"Enter a number: \"))\n",
    "\n",
    "# Check if the number is positive, negative, or zero\n",
    "if number > 0:\n",
    "    print(\"The number is positive.\")\n",
    "elif number < 0:\n",
    "    print(\"The number is negative.\")\n",
    "else:\n",
    "    print(\"The number is zero.\")\n"
   ]
  },
  {
   "cell_type": "code",
   "execution_count": null,
   "id": "8703582e-e289-4123-896b-6910bda8a1b4",
   "metadata": {},
   "outputs": [],
   "source": []
  }
 ],
 "metadata": {
  "kernelspec": {
   "display_name": "anaconda-panel-2023.05-py310",
   "language": "python",
   "name": "conda-env-anaconda-panel-2023.05-py310-py"
  },
  "language_info": {
   "codemirror_mode": {
    "name": "ipython",
    "version": 3
   },
   "file_extension": ".py",
   "mimetype": "text/x-python",
   "name": "python",
   "nbconvert_exporter": "python",
   "pygments_lexer": "ipython3",
   "version": "3.11.5"
  }
 },
 "nbformat": 4,
 "nbformat_minor": 5
}
